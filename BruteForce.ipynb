{
 "cells": [
  {
   "cell_type": "code",
   "execution_count": 13,
   "metadata": {
    "collapsed": false
   },
   "outputs": [
    {
     "name": "stdout",
     "output_type": "stream",
     "text": [
      "[[ 0.21186441  0.78813559]\n",
      " [ 0.13559322  0.86440678]\n",
      " [ 0.45762712  0.54237288]\n",
      " [ 0.57627119  0.42372881]\n",
      " [ 0.5         0.5       ]\n",
      " [ 0.57627119  0.42372881]]\n"
     ]
    }
   ],
   "source": [
    "# problem d\n",
    "import numpy as np\n",
    "def ComputeJoint(G, F, x):\n",
    "    N = np.shape(G)[0]\n",
    "    K = np.shape(G)[1]\n",
    "    result = 1\n",
    "    for i in range(K):\n",
    "        n1 = -1\n",
    "        n2 = -2\n",
    "        for n in range(N):\n",
    "            if G[n, i] == 1:\n",
    "                if n1 < 0:\n",
    "                    n1 = n\n",
    "                else:\n",
    "                    n2 = n\n",
    "        result *= F[i, x[n1], x[n2]]\n",
    "    return result\n",
    "\n",
    "def Combination(G, F, i, val, index, x):\n",
    "    if index == np.shape(G)[0]:\n",
    "        return ComputeJoint(G, F, x)\n",
    "    res = 0\n",
    "    if index == i:\n",
    "        x.append(val)\n",
    "        res += Combination(G, F, i, val, index+1, x)\n",
    "        x.pop()\n",
    "    else:\n",
    "        x.append(0)\n",
    "        res += Combination(G, F, i, val, index+1, x)\n",
    "        x.pop()\n",
    "        x.append(1)\n",
    "        res += Combination(G, F, i, val, index+1, x)\n",
    "        x.pop()\n",
    "    return res\n",
    "        \n",
    "\n",
    "def BruteForce(G, F):\n",
    "    N = np.shape(G)[0]\n",
    "    K = np.shape(G)[1]\n",
    "    result = np.ones((N,2))\n",
    "    for i in range(N):\n",
    "        sum = 0\n",
    "        result[i, 0] = Combination(G, F, i, 0, 0, [])\n",
    "        result[i, 1] = Combination(G, F, i, 1, 0, [])\n",
    "        sum = result[i,0] + result[i, 1]\n",
    "        result[i, 0] = result[i, 0]/sum\n",
    "        result[i,1] = result[i,1]/sum\n",
    "    return result\n",
    "        \n",
    "G = np.array([[1,0,0,0,0], \n",
    "              [1,0,1,0,1], \n",
    "              [0,1,1,1,0], \n",
    "              [0,1,0,0,0], \n",
    "              [0,0,0,0,1],\n",
    "              [0,0,0,1,0]])\n",
    "K = np.shape(G)[1]\n",
    "F = np.ones((K, 2, 2))\n",
    "F[0,1,1] = 5\n",
    "F[1,0,1] = 0.5\n",
    "F[2,0,0] = 0\n",
    "F[3,0,0] = 2\n",
    "B = BruteForce(G, F)      \n",
    "print(B)"
   ]
  },
  {
   "cell_type": "code",
   "execution_count": null,
   "metadata": {
    "collapsed": true
   },
   "outputs": [],
   "source": []
  }
 ],
 "metadata": {
  "kernelspec": {
   "display_name": "Python 3",
   "language": "python",
   "name": "python3"
  },
  "language_info": {
   "codemirror_mode": {
    "name": "ipython",
    "version": 3
   },
   "file_extension": ".py",
   "mimetype": "text/x-python",
   "name": "python",
   "nbconvert_exporter": "python",
   "pygments_lexer": "ipython3",
   "version": "3.6.0"
  }
 },
 "nbformat": 4,
 "nbformat_minor": 2
}
